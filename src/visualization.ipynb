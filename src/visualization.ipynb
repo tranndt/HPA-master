{
 "cells": [
  {
   "cell_type": "markdown",
   "metadata": {},
   "source": [
    "import libraries"
   ]
  },
  {
   "cell_type": "code",
   "execution_count": null,
   "metadata": {
    "collapsed": true
   },
   "outputs": [],
   "source": [
    "# importing libraries\n",
    "import tensorflow as tf\n",
    "from tensorflow.contrib.tensorboard.plugins import projector\n",
    "import os\n",
    "import argparse\n",
    "import sys\n",
    "\n",
    "sys.path.insert(0, \"./\")\n",
    "\n",
    "from src.make_directory import make_directory\n",
    "from src.data_preprocessing import dataset_dict"
   ]
  },
  {
   "cell_type": "markdown",
   "metadata": {},
   "source": [
    "set dataset type"
   ]
  },
  {
   "cell_type": "code",
   "execution_count": 2,
   "metadata": {},
   "outputs": [],
   "source": [
    "# available options are\n",
    "# breast-cancer-wisconsin.data\n",
    "# wdbc.data\n",
    "# wpbc.data\n",
    "dataset_type = 'breast-cancer-wisconsin.data' "
   ]
  },
  {
   "cell_type": "code",
   "execution_count": null,
   "metadata": {},
   "outputs": [],
   "source": [
    "add dataset visualization for tensorboard"
   ]
  },
  {
   "cell_type": "code",
   "execution_count": null,
   "metadata": {},
   "outputs": [],
   "source": [
    "dataset_filename = os.path.join('..', 'data', dataset_type)\n",
    "dataset = dataset_dict[dataset_type](dataset_filename)\n",
    "dataset.process_dataset()  # get X and Y value\n",
    "\n",
    "# save directory\n",
    "save_dir = os.path.join('visualization', dataset_type)\n",
    "metadata_path = os.path.join(save_dir, 'metadata.tsv')\n",
    "make_directory(save_dir)  # make directory for save_dir if not exist\n",
    "\n",
    "# process the data into embedding projector in tensorflow\n",
    "data_tensor = tf.Variable(dataset.X, name='data_information')\n",
    "# process the y value into metadata to visualize\n",
    "with open(metadata_path, 'w') as f:\n",
    "    for value in dataset.Y:\n",
    "        f.write(f'{value}\\n')\n",
    "\n",
    "# save the input data value\n",
    "sess = tf.Session()\n",
    "saver = tf.train.Saver([data_tensor])\n",
    "sess.run(data_tensor.initializer)\n",
    "saver.save(sess, os.path.join(save_dir, \"data_information.ckpt\"))\n",
    "\n",
    "# save the input data y value so that we can see which embedding correspond to the appropriate target value\n",
    "config = projector.ProjectorConfig()\n",
    "embedding = config.embeddings.add()\n",
    "embedding.tensor_name = data_tensor.name\n",
    "embedding.metadata_path = 'metadata.tsv'\n",
    "projector.visualize_embeddings(tf.summary.FileWriter(save_dir), config)\n"
   ]
  },
  {
   "cell_type": "markdown",
   "metadata": {},
   "source": [
    "You can now view your visualization by running this:"
   ]
  },
  {
   "cell_type": "code",
   "execution_count": 1,
   "metadata": {},
   "outputs": [
    {
     "ename": "NameError",
     "evalue": "name 'dataset_type' is not defined",
     "traceback": [
      "\u001b[0;31m---------------------------------------------------------------------------\u001b[0m",
      "\u001b[0;31mNameError\u001b[0m                                 Traceback (most recent call last)",
      "\u001b[0;32m<ipython-input-1-cf31739fce74>\u001b[0m in \u001b[0;36m<module>\u001b[0;34m\u001b[0m\n\u001b[0;32m----> 1\u001b[0;31m \u001b[0mprint\u001b[0m\u001b[0;34m(\u001b[0m\u001b[0;34mf'tensorboard --logdir=visualization/{dataset_type} --host=localhost'\u001b[0m\u001b[0;34m)\u001b[0m\u001b[0;34m\u001b[0m\u001b[0;34m\u001b[0m\u001b[0m\n\u001b[0m",
      "\u001b[0;31mNameError\u001b[0m: name 'dataset_type' is not defined"
     ],
     "output_type": "error"
    }
   ],
   "source": [
    "print(f'tensorboard --logdir=visualization/{dataset_type} --host=localhost')"
   ]
  },
  {
   "cell_type": "code",
   "execution_count": null,
   "metadata": {},
   "outputs": [],
   "source": []
  }
 ],
 "metadata": {
  "kernelspec": {
   "display_name": "Python (py36)",
   "language": "python",
   "name": "py36"
  },
  "language_info": {
   "codemirror_mode": {
    "name": "ipython",
    "version": 3
   },
   "file_extension": ".py",
   "mimetype": "text/x-python",
   "name": "python",
   "nbconvert_exporter": "python",
   "pygments_lexer": "ipython3",
   "version": "3.7.2"
  }
 },
 "nbformat": 4,
 "nbformat_minor": 1
}
